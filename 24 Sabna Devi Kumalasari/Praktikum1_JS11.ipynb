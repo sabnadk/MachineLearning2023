{
  "nbformat": 4,
  "nbformat_minor": 0,
  "metadata": {
    "colab": {
      "provenance": [],
      "toc_visible": true,
      "mount_file_id": "11EPKpY3HhZu-Tswtum-LJxS51uxWLqgE",
      "authorship_tag": "ABX9TyPCy1bZq3X6ARcgr066VKVi",
      "include_colab_link": true
    },
    "kernelspec": {
      "name": "python3",
      "display_name": "Python 3"
    },
    "language_info": {
      "name": "python"
    }
  },
  "cells": [
    {
      "cell_type": "markdown",
      "metadata": {
        "id": "view-in-github",
        "colab_type": "text"
      },
      "source": [
        "<a href=\"https://colab.research.google.com/github/sabnadk/MachineLearning2023/blob/main/24%20Sabna%20Devi%20Kumalasari/Praktikum1_JS11.ipynb\" target=\"_parent\"><img src=\"https://colab.research.google.com/assets/colab-badge.svg\" alt=\"Open In Colab\"/></a>"
      ]
    },
    {
      "cell_type": "markdown",
      "source": [
        "# **Praktikum 1**\n",
        "Klasifikasi 🐱 dan 🐶"
      ],
      "metadata": {
        "id": "pj0sF3rXSxA1"
      }
    },
    {
      "cell_type": "markdown",
      "source": [
        "### **Langkah 1 - Import Library**"
      ],
      "metadata": {
        "id": "x3tt2PYWS8D7"
      }
    },
    {
      "cell_type": "code",
      "execution_count": 1,
      "metadata": {
        "id": "eML8Je6ySoDI"
      },
      "outputs": [],
      "source": [
        "import tensorflow as tf\n",
        "from keras.preprocessing.image import ImageDataGenerator"
      ]
    },
    {
      "cell_type": "markdown",
      "source": [
        "### **Langkah 2 - Pra Pengolahan Data**\n",
        "Pada tahap ini kita akan sedikit melakukan manipulasi pada citra yang digunakan. Manipulasi yang dilakukan diantaranya adalah normalisasi nilai piksel, koreksi kemiringan, pembesaran (zoom), dan flip."
      ],
      "metadata": {
        "id": "2KNNl3MDTi9T"
      }
    },
    {
      "cell_type": "markdown",
      "source": [
        "**Langkah 2.1. Pra Pengolahan Data Training**"
      ],
      "metadata": {
        "id": "oWWs-mJlTsxT"
      }
    },
    {
      "cell_type": "code",
      "source": [
        "\n",
        "train_datagen = ImageDataGenerator(rescale = 1./255, #reskalasi nilai piksel gambar menjadi rentang o hingga 1\n",
        "                                   shear_range = 0.2, #teknik shear untuk merubah bentuk gambar\n",
        "                                   zoom_range = 0.2, #efek zoom in/out pada gambar\n",
        "                                   horizontal_flip = True) #flip horizontal pada gambar\n",
        "training_set = train_datagen.flow_from_directory('/content/drive/MyDrive/KULIAH/Semester 5/MachineLearning/dataset/training_set',\n",
        "                                                 target_size = (64, 64), #mengukur ukuran gambar yang diinginkan setelah dimuat\n",
        "                                                 batch_size = 32, #Menentukan jumlah gambar yang dimuat dalam satu batch pada setiap iterasi\n",
        "                                                 class_mode = 'binary')"
      ],
      "metadata": {
        "colab": {
          "base_uri": "https://localhost:8080/"
        },
        "id": "N0tqUUSoViw_",
        "outputId": "104ea93b-3031-4c72-9658-223a8a66cce5"
      },
      "execution_count": 2,
      "outputs": [
        {
          "output_type": "stream",
          "name": "stdout",
          "text": [
            "Found 8014 images belonging to 2 classes.\n"
          ]
        }
      ]
    },
    {
      "cell_type": "markdown",
      "source": [
        "**Langkah 2.2. Pra Pengolahan Data Testing**"
      ],
      "metadata": {
        "id": "tIEELBK5kG2g"
      }
    },
    {
      "cell_type": "code",
      "source": [
        "test_datagen = ImageDataGenerator(rescale = 1./255)\n",
        "test_set = test_datagen.flow_from_directory('/content/drive/MyDrive/KULIAH/Semester 5/MachineLearning/dataset/test_set',\n",
        "                                            target_size = (64, 64),\n",
        "                                            batch_size = 32,\n",
        "                                            class_mode = 'binary')"
      ],
      "metadata": {
        "colab": {
          "base_uri": "https://localhost:8080/"
        },
        "id": "fg5sJN07kOpW",
        "outputId": "f89a888d-43c7-477a-871a-3b3f83c63c74"
      },
      "execution_count": 3,
      "outputs": [
        {
          "output_type": "stream",
          "name": "stdout",
          "text": [
            "Found 2000 images belonging to 2 classes.\n"
          ]
        }
      ]
    },
    {
      "cell_type": "markdown",
      "source": [
        "### **Langkah 3 - Pembuatan Model CNN**"
      ],
      "metadata": {
        "id": "IsrX-T6NkZKH"
      }
    },
    {
      "cell_type": "markdown",
      "source": [
        "**Langkah 3.1.  - Inisiasi Model CNN**\n"
      ],
      "metadata": {
        "id": "VwzfUuJ1kjeC"
      }
    },
    {
      "cell_type": "code",
      "source": [
        "cnn = tf.keras.models.Sequential()"
      ],
      "metadata": {
        "id": "t6q5PlLtkoDd"
      },
      "execution_count": 4,
      "outputs": []
    },
    {
      "cell_type": "markdown",
      "source": [
        "**Langkah 3.2. - Pembuatan Layer Konvolusi 1**"
      ],
      "metadata": {
        "id": "U5_cSGWokrGY"
      }
    },
    {
      "cell_type": "code",
      "source": [
        "#menambahkan lapisan konvolusi pertama\n",
        "cnn.add(tf.keras.layers.Conv2D(filters=32, kernel_size=3, activation='relu', input_shape=[64, 64, 3]))"
      ],
      "metadata": {
        "id": "z3QVWVlXkveQ"
      },
      "execution_count": 5,
      "outputs": []
    },
    {
      "cell_type": "markdown",
      "source": [
        "**Langkah 3.3 - Pembuatan Layer Pooling 1**"
      ],
      "metadata": {
        "id": "UJYCfuWlkzKf"
      }
    },
    {
      "cell_type": "code",
      "source": [
        "#menambahkan lapisan pooling pertama\n",
        "cnn.add(tf.keras.layers.MaxPool2D(pool_size=2, strides=2))"
      ],
      "metadata": {
        "id": "oUAlNUo3k3T2"
      },
      "execution_count": 6,
      "outputs": []
    },
    {
      "cell_type": "markdown",
      "source": [
        "**Langkah 3.4 - Pembuatan Layer Konvolusi 2 dan Pooling 2**"
      ],
      "metadata": {
        "id": "fccGMlgMk8p-"
      }
    },
    {
      "cell_type": "code",
      "source": [
        "# Menambahkan lapisan konvolusi kedua\n",
        "cnn.add(tf.keras.layers.Conv2D(filters=32, kernel_size=3, activation='relu'))\n",
        "# Menambahkan lapisan pooling kedua\n",
        "cnn.add(tf.keras.layers.MaxPool2D(pool_size=2, strides=2))"
      ],
      "metadata": {
        "id": "q2DJS9Oik_Ki"
      },
      "execution_count": 7,
      "outputs": []
    },
    {
      "cell_type": "markdown",
      "source": [
        "**Langkah 3.5 - Flattening**"
      ],
      "metadata": {
        "id": "R2IIQGUflB3o"
      }
    },
    {
      "cell_type": "code",
      "source": [
        "# Menambahkan lapisan flat\n",
        "cnn.add(tf.keras.layers.Flatten())"
      ],
      "metadata": {
        "id": "1b5PuckolJcz"
      },
      "execution_count": 8,
      "outputs": []
    },
    {
      "cell_type": "markdown",
      "source": [
        "**Langkah 3.6 - Fully Connected Layer 1 (Input)**"
      ],
      "metadata": {
        "id": "weNInzV2lL0s"
      }
    },
    {
      "cell_type": "code",
      "source": [
        "# Menambahkan lapisan terhubung penuh\n",
        "cnn.add(tf.keras.layers.Dense(units=128, activation='relu'))"
      ],
      "metadata": {
        "id": "JA-GdUihlRDx"
      },
      "execution_count": 9,
      "outputs": []
    },
    {
      "cell_type": "markdown",
      "source": [
        "**Langkah 3.7 - Fully Connected Layer 2 (Output)**"
      ],
      "metadata": {
        "id": "56xI4oeglTYQ"
      }
    },
    {
      "cell_type": "code",
      "source": [
        "# Menambahkan lapisan output\n",
        "cnn.add(tf.keras.layers.Dense(units=1, activation='sigmoid'))"
      ],
      "metadata": {
        "id": "7hHVQI2dlXBQ"
      },
      "execution_count": 10,
      "outputs": []
    },
    {
      "cell_type": "markdown",
      "source": [
        "**Langkah 3.8 - Compile Model CNN**"
      ],
      "metadata": {
        "id": "D8IPXYxela7E"
      }
    },
    {
      "cell_type": "code",
      "source": [
        "# mengonfigurasi proses pelatihan model\n",
        "cnn.compile(optimizer = 'adam', loss = 'binary_crossentropy', metrics = ['accuracy'])\n",
        "#optimizer='adam': menentukan algoritma optimasi yang akan digunakan selama pelatihan\n",
        "#loss='binary_crossentropy': fungsi kerugian (loss function) yang digunakan selama pelatihan\n",
        "#metrics=['accuracy']: menentukan metrik evaluasi yang ingin dipantau selama pelatihan dan pengujian model"
      ],
      "metadata": {
        "id": "PlzYRl6Zlc07"
      },
      "execution_count": 11,
      "outputs": []
    },
    {
      "cell_type": "markdown",
      "source": [
        "cnn.compile(optimizer = 'adam', loss = 'binary_crossentropy', metrics = ['accuracy'])\n",
        "Penggunaan loss function binary crossentropy dikarenakan kita hanya melakukan klasifikasi pada dua kelas, yaitu kucing dan anjing."
      ],
      "metadata": {
        "id": "mJMb9Q9nlgvf"
      }
    },
    {
      "cell_type": "markdown",
      "source": [
        "### **Langkah 4 - Fit CNN**"
      ],
      "metadata": {
        "id": "VWk_Kkltliof"
      }
    },
    {
      "cell_type": "code",
      "source": [
        "cnn.fit(x = training_set, validation_data = test_set, epochs = 25)"
      ],
      "metadata": {
        "colab": {
          "base_uri": "https://localhost:8080/"
        },
        "id": "hhUQ2pAIlm-u",
        "outputId": "656012c1-927c-4c82-e0ab-83329e8894c7"
      },
      "execution_count": 12,
      "outputs": [
        {
          "output_type": "stream",
          "name": "stdout",
          "text": [
            "Epoch 1/25\n",
            "251/251 [==============================] - 1965s 8s/step - loss: 0.6684 - accuracy: 0.5832 - val_loss: 0.5996 - val_accuracy: 0.6980\n",
            "Epoch 2/25\n",
            "251/251 [==============================] - 88s 351ms/step - loss: 0.5965 - accuracy: 0.6796 - val_loss: 0.5565 - val_accuracy: 0.7240\n",
            "Epoch 3/25\n",
            "251/251 [==============================] - 83s 329ms/step - loss: 0.5581 - accuracy: 0.7131 - val_loss: 0.5550 - val_accuracy: 0.7270\n",
            "Epoch 4/25\n",
            "251/251 [==============================] - 80s 317ms/step - loss: 0.5279 - accuracy: 0.7336 - val_loss: 0.4968 - val_accuracy: 0.7545\n",
            "Epoch 5/25\n",
            "251/251 [==============================] - 77s 305ms/step - loss: 0.5112 - accuracy: 0.7483 - val_loss: 0.5021 - val_accuracy: 0.7605\n",
            "Epoch 6/25\n",
            "251/251 [==============================] - 83s 333ms/step - loss: 0.4901 - accuracy: 0.7599 - val_loss: 0.4870 - val_accuracy: 0.7765\n",
            "Epoch 7/25\n",
            "251/251 [==============================] - 74s 293ms/step - loss: 0.4660 - accuracy: 0.7754 - val_loss: 0.4713 - val_accuracy: 0.7865\n",
            "Epoch 8/25\n",
            "251/251 [==============================] - 72s 287ms/step - loss: 0.4527 - accuracy: 0.7824 - val_loss: 0.5239 - val_accuracy: 0.7505\n",
            "Epoch 9/25\n",
            "251/251 [==============================] - 75s 297ms/step - loss: 0.4438 - accuracy: 0.7919 - val_loss: 0.4646 - val_accuracy: 0.7705\n",
            "Epoch 10/25\n",
            "251/251 [==============================] - 79s 316ms/step - loss: 0.4255 - accuracy: 0.8008 - val_loss: 0.4501 - val_accuracy: 0.7905\n",
            "Epoch 11/25\n",
            "251/251 [==============================] - 75s 301ms/step - loss: 0.4207 - accuracy: 0.8031 - val_loss: 0.4495 - val_accuracy: 0.7925\n",
            "Epoch 12/25\n",
            "251/251 [==============================] - 75s 297ms/step - loss: 0.3976 - accuracy: 0.8161 - val_loss: 0.4718 - val_accuracy: 0.7805\n",
            "Epoch 13/25\n",
            "251/251 [==============================] - 76s 302ms/step - loss: 0.3953 - accuracy: 0.8169 - val_loss: 0.4474 - val_accuracy: 0.7980\n",
            "Epoch 14/25\n",
            "251/251 [==============================] - 76s 302ms/step - loss: 0.3883 - accuracy: 0.8233 - val_loss: 0.4807 - val_accuracy: 0.7835\n",
            "Epoch 15/25\n",
            "251/251 [==============================] - 72s 285ms/step - loss: 0.3736 - accuracy: 0.8304 - val_loss: 0.5009 - val_accuracy: 0.7805\n",
            "Epoch 16/25\n",
            "251/251 [==============================] - 75s 297ms/step - loss: 0.3701 - accuracy: 0.8322 - val_loss: 0.4516 - val_accuracy: 0.8005\n",
            "Epoch 17/25\n",
            "251/251 [==============================] - 76s 303ms/step - loss: 0.3445 - accuracy: 0.8436 - val_loss: 0.4684 - val_accuracy: 0.8030\n",
            "Epoch 18/25\n",
            "251/251 [==============================] - 76s 301ms/step - loss: 0.3326 - accuracy: 0.8521 - val_loss: 0.4645 - val_accuracy: 0.8030\n",
            "Epoch 19/25\n",
            "251/251 [==============================] - 75s 299ms/step - loss: 0.3190 - accuracy: 0.8589 - val_loss: 0.4813 - val_accuracy: 0.7950\n",
            "Epoch 20/25\n",
            "251/251 [==============================] - 76s 303ms/step - loss: 0.3137 - accuracy: 0.8585 - val_loss: 0.4699 - val_accuracy: 0.7955\n",
            "Epoch 21/25\n",
            "251/251 [==============================] - 73s 292ms/step - loss: 0.3100 - accuracy: 0.8646 - val_loss: 0.5325 - val_accuracy: 0.7820\n",
            "Epoch 22/25\n",
            "251/251 [==============================] - 74s 294ms/step - loss: 0.2851 - accuracy: 0.8742 - val_loss: 0.4814 - val_accuracy: 0.8040\n",
            "Epoch 23/25\n",
            "251/251 [==============================] - 73s 290ms/step - loss: 0.2781 - accuracy: 0.8817 - val_loss: 0.5257 - val_accuracy: 0.8000\n",
            "Epoch 24/25\n",
            "251/251 [==============================] - 78s 310ms/step - loss: 0.2597 - accuracy: 0.8907 - val_loss: 0.5090 - val_accuracy: 0.7910\n",
            "Epoch 25/25\n",
            "251/251 [==============================] - 73s 291ms/step - loss: 0.2586 - accuracy: 0.8918 - val_loss: 0.5817 - val_accuracy: 0.7865\n"
          ]
        },
        {
          "output_type": "execute_result",
          "data": {
            "text/plain": [
              "<keras.src.callbacks.History at 0x780cd1a3ca60>"
            ]
          },
          "metadata": {},
          "execution_count": 12
        }
      ]
    },
    {
      "cell_type": "markdown",
      "source": [
        "### **Langkah 5 - Prediksi dengan 1 Citra**\n",
        "Pada langkah ini, kita akan mencoba melakukan prediksi pada 1 citra anjing dan kucing."
      ],
      "metadata": {
        "id": "LtGXA8yvrHcN"
      }
    },
    {
      "cell_type": "code",
      "source": [
        "import numpy as np\n",
        "from keras.preprocessing import image\n",
        "test_image = image.load_img('/content/drive/MyDrive/KULIAH/Semester 5/MachineLearning/dataset/single_prediction/cat_or_dog_1.jpg', target_size = (64, 64))\n",
        "\n",
        "#Mengubah gambar yang dimuat menjadi array NumPy\n",
        "test_image = image.img_to_array(test_image)\n",
        "\n",
        "#Menambahkan dimensi batch ke array gambar agar sesuai dengan format input yang diharapkan oleh model CNN\n",
        "test_image = np.expand_dims(test_image, axis = 0)\n",
        "\n",
        "#Melakukan prediksi menggunakan model CNN terhadap gambar uji yang telah diproses\n",
        "result = cnn.predict(test_image)\n",
        "\n",
        "#elatihan model menggunakan generator data\n",
        "training_set.class_indices\n",
        "\n",
        "#Mengecek hasil prediksi. Jika nilai di indeks pertama dari hasil prediksi adalah 1, maka dianggap sebagai 'dog', dan sebaliknya dianggap sebagai 'cat'\n",
        "if result[0][0] == 1:\n",
        "  prediction = 'dog'\n",
        "else:\n",
        "  prediction = 'cat'"
      ],
      "metadata": {
        "colab": {
          "base_uri": "https://localhost:8080/"
        },
        "id": "XY50jgYzrNfK",
        "outputId": "f90f23b9-cd37-4915-8f4d-4d34017b0e9c"
      },
      "execution_count": 13,
      "outputs": [
        {
          "output_type": "stream",
          "name": "stdout",
          "text": [
            "1/1 [==============================] - 0s 103ms/step\n"
          ]
        }
      ]
    }
  ]
}